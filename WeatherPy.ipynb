{
 "cells": [
  {
   "cell_type": "markdown",
   "metadata": {},
   "source": [
    "# WeatherPy\n",
    "----\n",
    "\n",
    "#### Note\n",
    "* Instructions have been included for each segment. You do not have to follow them exactly, but they are included to help you think through the steps."
   ]
  },
  {
   "cell_type": "code",
   "execution_count": 7,
   "metadata": {
    "scrolled": true
   },
   "outputs": [
    {
     "data": {
      "text/html": [
       "<div>\n",
       "<style scoped>\n",
       "    .dataframe tbody tr th:only-of-type {\n",
       "        vertical-align: middle;\n",
       "    }\n",
       "\n",
       "    .dataframe tbody tr th {\n",
       "        vertical-align: top;\n",
       "    }\n",
       "\n",
       "    .dataframe thead th {\n",
       "        text-align: right;\n",
       "    }\n",
       "</style>\n",
       "<table border=\"1\" class=\"dataframe\">\n",
       "  <thead>\n",
       "    <tr style=\"text-align: right;\">\n",
       "      <th></th>\n",
       "      <th>City_ID</th>\n",
       "      <th>City</th>\n",
       "      <th>Cloudiness</th>\n",
       "      <th>Country</th>\n",
       "      <th>Date</th>\n",
       "      <th>Humidity</th>\n",
       "      <th>Lat</th>\n",
       "      <th>Lng</th>\n",
       "      <th>Max Temp</th>\n",
       "      <th>Wind Speed</th>\n",
       "    </tr>\n",
       "  </thead>\n",
       "  <tbody>\n",
       "    <tr>\n",
       "      <th>0</th>\n",
       "      <td>0</td>\n",
       "      <td>ostrovnoy</td>\n",
       "      <td>2</td>\n",
       "      <td>RU</td>\n",
       "      <td>1558378754</td>\n",
       "      <td>72</td>\n",
       "      <td>68.05</td>\n",
       "      <td>39.51</td>\n",
       "      <td>37.50</td>\n",
       "      <td>7.16</td>\n",
       "    </tr>\n",
       "    <tr>\n",
       "      <th>1</th>\n",
       "      <td>1</td>\n",
       "      <td>mahebourg</td>\n",
       "      <td>75</td>\n",
       "      <td>MU</td>\n",
       "      <td>1558378503</td>\n",
       "      <td>74</td>\n",
       "      <td>-20.41</td>\n",
       "      <td>57.70</td>\n",
       "      <td>78.80</td>\n",
       "      <td>11.41</td>\n",
       "    </tr>\n",
       "    <tr>\n",
       "      <th>2</th>\n",
       "      <td>2</td>\n",
       "      <td>qaanaaq</td>\n",
       "      <td>25</td>\n",
       "      <td>GL</td>\n",
       "      <td>1558378755</td>\n",
       "      <td>73</td>\n",
       "      <td>77.48</td>\n",
       "      <td>-69.36</td>\n",
       "      <td>22.20</td>\n",
       "      <td>2.37</td>\n",
       "    </tr>\n",
       "    <tr>\n",
       "      <th>3</th>\n",
       "      <td>3</td>\n",
       "      <td>zhuhai</td>\n",
       "      <td>0</td>\n",
       "      <td>CN</td>\n",
       "      <td>1558378755</td>\n",
       "      <td>39</td>\n",
       "      <td>40.71</td>\n",
       "      <td>112.04</td>\n",
       "      <td>44.60</td>\n",
       "      <td>4.47</td>\n",
       "    </tr>\n",
       "    <tr>\n",
       "      <th>4</th>\n",
       "      <td>4</td>\n",
       "      <td>cape town</td>\n",
       "      <td>20</td>\n",
       "      <td>ZA</td>\n",
       "      <td>1558378755</td>\n",
       "      <td>76</td>\n",
       "      <td>-33.93</td>\n",
       "      <td>18.42</td>\n",
       "      <td>55.99</td>\n",
       "      <td>8.05</td>\n",
       "    </tr>\n",
       "  </tbody>\n",
       "</table>\n",
       "</div>"
      ],
      "text/plain": [
       "   City_ID       City  Cloudiness Country        Date  Humidity    Lat  \\\n",
       "0        0  ostrovnoy           2      RU  1558378754        72  68.05   \n",
       "1        1  mahebourg          75      MU  1558378503        74 -20.41   \n",
       "2        2    qaanaaq          25      GL  1558378755        73  77.48   \n",
       "3        3     zhuhai           0      CN  1558378755        39  40.71   \n",
       "4        4  cape town          20      ZA  1558378755        76 -33.93   \n",
       "\n",
       "      Lng  Max Temp  Wind Speed  \n",
       "0   39.51     37.50        7.16  \n",
       "1   57.70     78.80       11.41  \n",
       "2  -69.36     22.20        2.37  \n",
       "3  112.04     44.60        4.47  \n",
       "4   18.42     55.99        8.05  "
      ]
     },
     "execution_count": 7,
     "metadata": {},
     "output_type": "execute_result"
    }
   ],
   "source": [
    "# Dependencies\n",
    "import matplotlib.pyplot as plt\n",
    "import pandas as pd\n",
    "import numpy as np\n",
    "import requests\n",
    "import time\n",
    "from scipy.stats import linregress\n",
    "from api_keys import weather_api_key\n",
    "\n",
    "# Incorporated citipy to determine city based on latitude and longitude\n",
    "from citipy import citipy\n",
    "\n",
    "cities_org = pd.read_csv(\"cities.csv\", encoding=\"utf-8\")\n",
    "cities_org.head()"
   ]
  },
  {
   "cell_type": "markdown",
   "metadata": {},
   "source": [
    "## Generate Cities List"
   ]
  },
  {
   "cell_type": "code",
   "execution_count": 4,
   "metadata": {},
   "outputs": [
    {
     "data": {
      "text/plain": [
       "627"
      ]
     },
     "execution_count": 4,
     "metadata": {},
     "output_type": "execute_result"
    }
   ],
   "source": [
    "# List for holding lat_lngs and cities\n",
    "latnlngs = [] # Create a list of latitude and longitude\n",
    "cities = [] # Create a cities list\n",
    "\n",
    "# Create a random range of latitudes and longitudes\n",
    "lats = np.random.uniform(low=-90.000, high=90.000, size=1500)\n",
    "lngs = np.random.uniform(low=-180.000, high=180.000, size=1500)\n",
    "latnlngs = zip(lats, lngs)\n",
    "\n",
    "# Identify nearest city for each latitude and longitude\n",
    "for latnlng in latnlngs:\n",
    "    city = citipy.nearest_city(latnlng[0], latnlng[1]).city_name\n",
    "     \n",
    "    city = city.replace(\" \", \"%20\") # Replace spaces with %20 to create url correctly\n",
    "    \n",
    "    # If the city is unique, then add it to a our cities list\n",
    "    if city not in cities:\n",
    "\n",
    "        cities.append(city) # Append city to the dataframe\n",
    "\n",
    "len(cities) # Count the number of cities"
   ]
  },
  {
   "cell_type": "markdown",
   "metadata": {},
   "source": [
    "### Perform API Calls\n",
    "* Perform a weather check on each city using a series of successive API calls.\n",
    "* Include a print log of each city as it'sbeing processed (with the city number and city name).\n"
   ]
  },
  {
   "cell_type": "code",
   "execution_count": 5,
   "metadata": {},
   "outputs": [
    {
     "name": "stdout",
     "output_type": "stream",
     "text": [
      "Data Processing\n",
      "-------------------------------\n",
      "Processing Record 1 | Kandi\n",
      "Processing Record 2 | Alghero\n",
      "Processing Record 3 | Mahébourg\n",
      "Processing Record 4 | Yangambi\n",
      "Processing Record 5 | Toropets\n",
      "Processing Record 6 | Yining\n",
      "Processing Record 7 | Emerald\n",
      "Processing Record 8 | Plettenberg Bay\n",
      "Processing Record 9 | Chokurdakh\n",
      "Processing Record 10 | Punta Arenas\n",
      "Processing Record 11 | Albany\n",
      "Processing Record 12 | Namtsy\n",
      "Processing Record 13 | Bluff\n",
      "Processing Record 14 | Rikitea\n",
      "Processing Record 15 | Mataura\n",
      "Processing Record 16 | Kloulklubed\n",
      "Processing Record 17 | Qaanaaq\n",
      "Processing Record 18 | Wajima\n",
      "Skip when city not found\n",
      "Processing Record 19 | Olinda\n",
      "Skip when city not found\n",
      "Processing Record 20 | Tuatapere\n",
      "Processing Record 21 | Ushuaia\n",
      "Processing Record 22 | Nichinan\n",
      "Processing Record 23 | Vila Velha\n",
      "Processing Record 24 | Loandjili\n",
      "Processing Record 25 | São Filipe\n",
      "Processing Record 26 | Smithers\n",
      "Processing Record 27 | San Bernardo\n",
      "Processing Record 28 | George Town\n",
      "Processing Record 29 | Ugoofaaru\n",
      "Processing Record 30 | Payo\n",
      "Processing Record 31 | Kapaa\n",
      "Processing Record 32 | East London\n",
      "Processing Record 33 | Lagoa\n",
      "Processing Record 34 | Saskylakh\n",
      "Processing Record 35 | Ponta Delgada\n",
      "Skip when city not found\n",
      "Processing Record 36 | Margate\n",
      "Processing Record 37 | Latung\n",
      "Processing Record 38 | Tuktoyaktuk\n",
      "Processing Record 39 | Port Elizabeth\n",
      "Processing Record 40 | Nanortalik\n",
      "Processing Record 41 | Utica\n",
      "Processing Record 42 | Simbahan\n",
      "Processing Record 43 | Ponta do Sol\n",
      "Processing Record 44 | Busselton\n",
      "Processing Record 45 | Bobcaygeon\n",
      "Processing Record 46 | Avarua\n",
      "Processing Record 47 | Pringsewu\n",
      "Processing Record 48 | Longyearbyen\n",
      "Processing Record 49 | Ola\n",
      "Processing Record 50 | Saint Paul Harbor\n",
      "Processing Record 51 | Souillac\n",
      "Processing Record 52 | Peniche\n",
      "Processing Record 53 | Kajansi\n",
      "Processing Record 54 | Ballarat\n",
      "Processing Record 55 | Lang Son\n",
      "Processing Record 56 | Manama\n",
      "Processing Record 57 | Ranfurly\n",
      "Processing Record 58 | New Norfolk\n",
      "Processing Record 59 | Katsuura\n",
      "Processing Record 60 | Cleethorpes\n",
      "Processing Record 61 | Tiksi\n",
      "Processing Record 62 | Kelowna\n",
      "Processing Record 63 | Channel-Port aux Basques\n",
      "Processing Record 64 | Hobart\n",
      "Processing Record 65 | Rovaniemi\n",
      "Processing Record 66 | Rāzole\n",
      "Processing Record 67 | Hudiksvall\n",
      "Processing Record 68 | Atuona\n",
      "Processing Record 69 | Nago\n",
      "Processing Record 70 | Nguru\n",
      "Processing Record 71 | Airai\n",
      "Skip when city not found\n",
      "Processing Record 72 | Katangli\n",
      "Processing Record 73 | Livingston\n",
      "Processing Record 74 | Hermiston\n",
      "Processing Record 75 | Luoyang\n",
      "Processing Record 76 | Menongue\n",
      "Processing Record 77 | Geraldton\n",
      "Processing Record 78 | Saint-Philippe\n",
      "Processing Record 79 | Assiut\n",
      "Processing Record 80 | Pitanga\n",
      "Processing Record 81 | Biltine\n",
      "Skip when city not found\n",
      "Processing Record 82 | Shakiso\n",
      "Processing Record 83 | Port Alfred\n",
      "Processing Record 84 | Muisne\n",
      "Processing Record 85 | Torbay\n",
      "Processing Record 86 | Flinders\n",
      "Processing Record 87 | Harwich\n",
      "Processing Record 88 | Yerbogachën\n",
      "Processing Record 89 | Senador Guiomard\n",
      "Processing Record 90 | Faya\n",
      "Processing Record 91 | Kruisfontein\n",
      "Processing Record 92 | Kirakira\n",
      "Processing Record 93 | Puerto Ayora\n",
      "Processing Record 94 | Pahlgām\n",
      "Processing Record 95 | Dingle\n",
      "Processing Record 96 | Oistins\n",
      "Processing Record 97 | Mehamn\n",
      "Processing Record 98 | Ribeira Grande\n",
      "Processing Record 99 | Sinop Province\n",
      "Processing Record 100 | Khatanga\n",
      "Processing Record 101 | Jinhua\n",
      "Skip when city not found\n",
      "Processing Record 102 | Krivosheino\n",
      "Processing Record 103 | Naujamiestis\n",
      "Processing Record 104 | Anchorage\n",
      "Processing Record 105 | Boa Vista\n",
      "Processing Record 106 | Ucluelet\n",
      "Processing Record 107 | Dikson\n",
      "Processing Record 108 | Gravdal\n",
      "Processing Record 109 | Gijang\n",
      "Skip when city not found\n",
      "Processing Record 110 | Hofn\n",
      "Processing Record 111 | San Felipe\n",
      "Processing Record 112 | Bethel\n",
      "Processing Record 113 | Oudtshoorn\n",
      "Processing Record 114 | Constitución\n",
      "Processing Record 115 | Hong Kong\n",
      "Skip when city not found\n",
      "Processing Record 116 | Garissa\n",
      "Processing Record 117 | Thompson\n",
      "Processing Record 118 | Tiznit Province\n",
      "Processing Record 119 | Bumba\n",
      "Processing Record 120 | Hermanus\n",
      "Processing Record 121 | Nioro\n",
      "Processing Record 122 | Acobamba\n",
      "Processing Record 123 | Sitka\n",
      "Processing Record 124 | Inhambane\n",
      "Processing Record 125 | Arraial do Cabo\n",
      "Processing Record 126 | Port Lincoln\n",
      "Processing Record 127 | Havre-St-Pierre\n",
      "Processing Record 128 | Yumen\n",
      "Processing Record 129 | Burnie\n",
      "Processing Record 130 | Ameca\n",
      "Processing Record 131 | Taoudenni\n",
      "Processing Record 132 | Marabu\n",
      "Processing Record 133 | Puerto Colombia\n",
      "Processing Record 134 | San Patricio\n",
      "Processing Record 135 | Jamestown\n",
      "Processing Record 136 | Hasaki\n",
      "Processing Record 137 | Hilo\n",
      "Processing Record 138 | Porosozero\n",
      "Processing Record 139 | Yar-Sale\n",
      "Processing Record 140 | Aykhal\n",
      "Processing Record 141 | Nikolskoye\n",
      "Processing Record 142 | Hamilton\n",
      "Processing Record 143 | Cidreira\n",
      "Processing Record 144 | Yulara\n",
      "Processing Record 145 | Rauma\n",
      "Processing Record 146 | Gushikawa\n",
      "Processing Record 147 | Cape Town\n",
      "Processing Record 148 | Lusambo\n",
      "Processing Record 149 | Khanbari\n",
      "Processing Record 150 | Belaya Gora\n",
      "Processing Record 151 | Te Anau\n",
      "Processing Record 152 | Matara\n",
      "Processing Record 153 | Saint-François\n",
      "Processing Record 154 | Vaini\n",
      "Processing Record 155 | Codrington\n",
      "Processing Record 156 | Iqaluit\n",
      "Skip when city not found\n",
      "Processing Record 157 | Kavaratti\n",
      "Processing Record 158 | Burhaniye\n",
      "Processing Record 159 | Vao\n",
      "Processing Record 160 | Bara\n",
      "Processing Record 161 | Nakhon Phanom\n",
      "Processing Record 162 | Araguaçu\n",
      "Processing Record 163 | Port Macquarie\n",
      "Processing Record 164 | Bubaque\n",
      "Processing Record 165 | Castro\n",
      "Processing Record 166 | George\n",
      "Processing Record 167 | Genhe\n",
      "Processing Record 168 | Tasiilaq\n",
      "Processing Record 169 | Dryden\n",
      "Processing Record 170 | Beya\n",
      "Processing Record 171 | Novopokrovka\n",
      "Processing Record 172 | Naze\n",
      "Skip when city not found\n",
      "Skip when city not found\n",
      "Processing Record 173 | Gimli\n",
      "Processing Record 174 | El Salvador\n",
      "Processing Record 175 | Vyartsilya\n",
      "Processing Record 176 | Faanui\n",
      "Processing Record 177 | Killybegs\n",
      "Processing Record 178 | San Cristobal\n",
      "Processing Record 179 | Yellowknife\n",
      "Processing Record 180 | Lékoni\n",
      "Processing Record 181 | Scottsbluff\n",
      "Processing Record 182 | Road Town\n",
      "Processing Record 183 | Hirara\n",
      "Processing Record 184 | Desaguadero\n",
      "Processing Record 185 | Pirmasens\n",
      "Processing Record 186 | Lompoc\n",
      "Processing Record 187 | Piste\n",
      "Processing Record 188 | Ancud\n",
      "Processing Record 189 | Sorong\n",
      "Processing Record 190 | Phan Thiet\n",
      "Processing Record 191 | Mâncio Lima\n",
      "Skip when city not found\n",
      "Skip when city not found\n",
      "Processing Record 192 | Bredasdorp\n",
      "Skip when city not found\n",
      "Processing Record 193 | Mar del Plata\n",
      "Processing Record 194 | Kenai\n",
      "Processing Record 195 | Kavieng\n",
      "Processing Record 196 | Mackay\n",
      "Processing Record 197 | Namatanai\n",
      "Processing Record 198 | Rio Grande\n",
      "Processing Record 199 | Omsukchan\n",
      "Processing Record 200 | San Fernando del Valle de Catamarca\n",
      "Processing Record 201 | Champerico\n",
      "Processing Record 202 | Pacific Grove\n",
      "Processing Record 203 | Paamiut\n",
      "Processing Record 204 | Port-Gentil\n",
      "Processing Record 205 | Chenghai\n",
      "Processing Record 206 | Itainópolis\n",
      "Processing Record 207 | Biggar\n",
      "Processing Record 208 | Cockburn Town\n",
      "Processing Record 209 | Rocky Mountain House\n",
      "Skip when city not found\n",
      "Skip when city not found\n",
      "Processing Record 210 | Gitarama\n",
      "Processing Record 211 | Port Blair\n",
      "Processing Record 212 | Roald\n",
      "Processing Record 213 | Salekhard\n",
      "Processing Record 214 | Portland\n",
      "Skip when city not found\n",
      "Processing Record 215 | Chongwe\n",
      "Processing Record 216 | São João da Barra\n",
      "Processing Record 217 | Tabuk\n",
      "Processing Record 218 | Karratha\n",
      "Processing Record 219 | Salalah\n",
      "Processing Record 220 | Shaunavon\n",
      "Processing Record 221 | Adiaké\n",
      "Processing Record 222 | Lodwar\n",
      "Processing Record 223 | Haines Junction\n",
      "Processing Record 224 | Arrondissement de Saint-Malo\n",
      "Processing Record 225 | Álamos\n",
      "Processing Record 226 | Arlit\n",
      "Processing Record 227 | Cabedelo\n",
      "Processing Record 228 | Kabalo\n",
      "Processing Record 229 | Farafangana\n",
      "Processing Record 230 | Soyo\n",
      "Processing Record 231 | Pegnitz\n",
      "Processing Record 232 | Morón\n",
      "Processing Record 233 | El Retorno\n"
     ]
    },
    {
     "name": "stdout",
     "output_type": "stream",
     "text": [
      "Processing Record 234 | Ortona\n",
      "Processing Record 235 | Barrow\n",
      "Skip when city not found\n",
      "Processing Record 236 | Carnarvon\n",
      "Processing Record 237 | Codajás\n",
      "Processing Record 238 | Saint George\n",
      "Processing Record 239 | Olafsvik\n",
      "Processing Record 240 | Narragansett\n",
      "Processing Record 241 | Kumul\n",
      "Processing Record 242 | Talnakh\n",
      "Processing Record 243 | Broome\n",
      "Processing Record 244 | Naviraí\n",
      "Processing Record 245 | Kahului\n",
      "Skip when city not found\n",
      "Processing Record 246 | Lebu\n",
      "Processing Record 247 | Hithadhoo\n",
      "Processing Record 248 | Krasne\n",
      "Processing Record 249 | Ereymentau\n",
      "Processing Record 250 | Zabul Province\n",
      "Processing Record 251 | Kampot\n",
      "Processing Record 252 | Tifton\n",
      "Processing Record 253 | Grootfontein\n",
      "Processing Record 254 | Necochea\n",
      "Processing Record 255 | Aksarka\n",
      "Processing Record 256 | Shingū\n",
      "Processing Record 257 | Tūkrah\n",
      "Processing Record 258 | Nizhnyaya Omka\n",
      "Processing Record 259 | Ayan\n",
      "Processing Record 260 | Gotha\n",
      "Processing Record 261 | Griffith\n",
      "Skip when city not found\n",
      "Processing Record 262 | Vaitape\n",
      "Processing Record 263 | Grindavik\n",
      "Processing Record 264 | Bambous Virieux\n",
      "Processing Record 265 | Cherskiy\n",
      "Processing Record 266 | Ilulissat\n",
      "Processing Record 267 | Veracruz\n",
      "Processing Record 268 | Mana\n",
      "Processing Record 269 | Mbuji-Mayi\n",
      "Processing Record 270 | Sinnamary\n",
      "Processing Record 271 | Oktyabr'skiy\n",
      "Processing Record 272 | Bereda\n",
      "Processing Record 273 | Lavrentiya\n",
      "Processing Record 274 | Nuuk\n",
      "Skip when city not found\n",
      "Processing Record 275 | Pishin\n",
      "Processing Record 276 | Auki\n",
      "Processing Record 277 | Timberlake\n",
      "Processing Record 278 | Cheyenne\n",
      "Processing Record 279 | El Alto\n",
      "Processing Record 280 | Henties Bay\n",
      "Processing Record 281 | Usinsk\n",
      "Processing Record 282 | Provideniya\n",
      "Processing Record 283 | Ostrovnoy\n",
      "Processing Record 284 | Severo-Kuril'sk\n",
      "Processing Record 285 | Beihai\n",
      "Skip when city not found\n",
      "Processing Record 286 | Ceres\n",
      "Processing Record 287 | Avera\n",
      "Processing Record 288 | City of San Pedro\n",
      "Processing Record 289 | Kenitra\n",
      "Processing Record 290 | Saldanha\n",
      "Processing Record 291 | Wau\n",
      "Processing Record 292 | La Palma\n",
      "Processing Record 293 | Walvis Bay\n",
      "Processing Record 294 | Santa Marta\n",
      "Processing Record 295 | Bon Accord\n",
      "Processing Record 296 | Leh\n",
      "Processing Record 297 | Krasnyy Chikoy\n",
      "Processing Record 298 | Kuala Terengganu\n",
      "Processing Record 299 | Butaritari\n",
      "Skip when city not found\n",
      "Processing Record 300 | Bathsheba\n",
      "Processing Record 301 | Kaitangata\n",
      "Processing Record 302 | Svetlaya\n",
      "Processing Record 303 | Moose Factory\n",
      "Processing Record 304 | Sarh\n",
      "Processing Record 305 | High Level\n",
      "Processing Record 306 | Chapais\n",
      "Processing Record 307 | Aljezur\n",
      "Processing Record 308 | Baharly\n",
      "Processing Record 309 | Mgandu\n",
      "Skip when city not found\n",
      "Processing Record 310 | Otkaznoye\n",
      "Processing Record 311 | Amga\n",
      "Processing Record 312 | Stawell\n",
      "Processing Record 313 | Aswān\n",
      "Processing Record 314 | Murray Bridge\n",
      "Processing Record 315 | Pisco\n",
      "Processing Record 316 | Gus'-Khrustal'nyy\n",
      "Skip when city not found\n",
      "Processing Record 317 | Semporna\n",
      "Processing Record 318 | Baiyin\n",
      "Processing Record 319 | Kuril'sk\n",
      "Processing Record 320 | Turtas\n",
      "Processing Record 321 | Formosa\n",
      "Processing Record 322 | Camaná\n",
      "Processing Record 323 | Eina\n",
      "Processing Record 324 | Iwaki\n",
      "Processing Record 325 | Agüimes\n",
      "Processing Record 326 | Sabang\n",
      "Processing Record 327 | Medicine Hat\n",
      "Processing Record 328 | Husavik\n",
      "Processing Record 329 | Isangel\n",
      "Processing Record 330 | Itamaraju\n",
      "Processing Record 331 | Prince Rupert\n",
      "Processing Record 332 | Nouadhibou\n",
      "Processing Record 333 | Abu Kamal\n",
      "Processing Record 334 | Los Llanos de Aridane\n",
      "Skip when city not found\n",
      "Processing Record 335 | Muros\n",
      "Processing Record 336 | Atbasar\n",
      "Processing Record 337 | Capaci\n",
      "Processing Record 338 | Kimbe\n",
      "Processing Record 339 | Zhigalovo\n",
      "Skip when city not found\n",
      "Processing Record 340 | Narsaq\n",
      "Processing Record 341 | Gari\n",
      "Processing Record 342 | Juneau\n",
      "Processing Record 343 | Amboasary\n",
      "Processing Record 344 | Pemangkat\n",
      "Processing Record 345 | Aitape\n",
      "Processing Record 346 | Mossamedes\n",
      "Processing Record 347 | Price\n",
      "Processing Record 348 | Acaraú\n",
      "Processing Record 349 | Kidal\n",
      "Skip when city not found\n",
      "Processing Record 350 | Bagdarin\n",
      "Processing Record 351 | Egvekinot\n",
      "Processing Record 352 | Richards Bay\n",
      "Processing Record 353 | Zákányszék\n",
      "Processing Record 354 | Chokwé\n",
      "Processing Record 355 | Ajdabiya\n",
      "Processing Record 356 | Coquimbo\n",
      "Processing Record 357 | Kaeo\n",
      "Processing Record 358 | Saint-Joseph\n",
      "Processing Record 359 | Toora-Khem\n",
      "Processing Record 360 | Grand-Santi\n",
      "Processing Record 361 | Yaan\n",
      "Processing Record 362 | Lábrea\n",
      "Processing Record 363 | Narathiwat\n",
      "Skip when city not found\n",
      "Processing Record 364 | Hobyo\n",
      "Processing Record 365 | Riyadh\n",
      "Processing Record 366 | Arrondissement de Carcassonne\n",
      "Processing Record 367 | Lima\n",
      "Processing Record 368 | Vestmannaeyjar\n",
      "Processing Record 369 | Phimai\n",
      "Processing Record 370 | Anloga\n",
      "Processing Record 371 | Norman Wells\n",
      "Skip when city not found\n",
      "Processing Record 372 | Masty\n",
      "Processing Record 373 | Mollendo\n",
      "Processing Record 374 | Rawson\n",
      "Processing Record 375 | Kayerkan\n",
      "Processing Record 376 | Cayenne\n",
      "Processing Record 377 | Ust-Kuyga\n",
      "Processing Record 378 | Alofi\n",
      "Processing Record 379 | Leningradskiy\n",
      "Processing Record 380 | Dekar\n",
      "Processing Record 381 | Luwuk\n",
      "Processing Record 382 | Itaituba\n",
      "Processing Record 383 | Upernavik\n",
      "Processing Record 384 | Kovačica\n",
      "Processing Record 385 | Petropavlovsk-Kamchatskiy\n",
      "Processing Record 386 | Loon\n",
      "Processing Record 387 | Micheweni\n",
      "Processing Record 388 | Songyuan\n",
      "Processing Record 389 | Volksrust\n",
      "Processing Record 390 | Oruzgan\n",
      "Processing Record 391 | Fortuna\n",
      "Processing Record 392 | Den Helder\n",
      "Processing Record 393 | Klaksvík\n",
      "Processing Record 394 | Bairiki Village\n",
      "Processing Record 395 | Māgadi\n",
      "Processing Record 396 | Banda Aceh\n",
      "Processing Record 397 | Ardakān\n",
      "Processing Record 398 | Goundam\n",
      "Processing Record 399 | Mayumba\n",
      "Processing Record 400 | Soe\n",
      "Processing Record 401 | Annau\n",
      "Processing Record 402 | Garoua Boulaï\n",
      "Processing Record 403 | Yarmolyntsi\n",
      "Processing Record 404 | Bulgan\n",
      "Processing Record 405 | Cabo San Lucas\n",
      "Processing Record 406 | Ayorou\n",
      "Processing Record 407 | Turukhansk\n",
      "Processing Record 408 | Gornopravdinsk\n",
      "Processing Record 409 | Huarmey\n",
      "Processing Record 410 | Acapulco de Juárez\n",
      "Processing Record 411 | Rørvik\n",
      "Processing Record 412 | Prado\n",
      "Processing Record 413 | Wanning\n",
      "Processing Record 414 | Srednekolymsk\n",
      "Processing Record 415 | Hare Bay\n",
      "Processing Record 416 | Makat\n",
      "Processing Record 417 | Manggar\n",
      "Processing Record 418 | Torit\n",
      "Processing Record 419 | Mokhsogollokh\n",
      "Processing Record 420 | Pevek\n",
      "Processing Record 421 | Hay River\n",
      "Processing Record 422 | Touros\n",
      "Processing Record 423 | Shugurovo\n",
      "Processing Record 424 | Kysyl-Syr\n",
      "Processing Record 425 | Port Hedland\n",
      "Processing Record 426 | Uren'\n",
      "Skip when city not found\n",
      "Processing Record 427 | Mahajanga\n",
      "Processing Record 428 | Vestnes\n",
      "Processing Record 429 | Afzalgarh\n",
      "Processing Record 430 | Arrecife\n",
      "Processing Record 431 | Concarneau\n",
      "Processing Record 432 | Tura\n",
      "Processing Record 433 | Healesville\n",
      "Processing Record 434 | Olean\n",
      "Processing Record 435 | Lázaro Cárdenas\n",
      "Processing Record 436 | Makakilo City\n",
      "Processing Record 437 | Kargil\n",
      "Processing Record 438 | Upata\n",
      "Processing Record 439 | Bilma\n",
      "Processing Record 440 | Matagami\n",
      "Processing Record 441 | Lagunillas\n",
      "Processing Record 442 | Aktau\n",
      "Processing Record 443 | Jalu\n",
      "Skip when city not found\n",
      "Processing Record 444 | Eureka\n",
      "Processing Record 445 | Clyde River\n",
      "Processing Record 446 | The Valley\n",
      "Processing Record 447 | Solnechnyy\n",
      "Processing Record 448 | Brigantine\n",
      "Processing Record 449 | Mount Gambier\n",
      "Processing Record 450 | Cowra\n",
      "Processing Record 451 | Zelenoborskiy\n",
      "Skip when city not found\n",
      "Processing Record 452 | Heraclea\n",
      "Processing Record 453 | Marawi\n",
      "Processing Record 454 | Knyaginino\n",
      "Processing Record 455 | Tarpa\n",
      "Skip when city not found\n",
      "Processing Record 456 | Pochutla\n",
      "Skip when city not found\n",
      "Processing Record 457 | Neustadt an der Waldnaab\n",
      "Processing Record 458 | Naghadeh\n",
      "Processing Record 459 | Maceió\n",
      "Processing Record 460 | Vestmanna\n",
      "Processing Record 461 | Half Moon Bay\n",
      "Processing Record 462 | Padilla\n",
      "Processing Record 463 | Bodaybo\n",
      "Processing Record 464 | North Bend\n",
      "Processing Record 465 | Mbeya\n",
      "Processing Record 466 | Pangody\n"
     ]
    },
    {
     "name": "stdout",
     "output_type": "stream",
     "text": [
      "Processing Record 467 | Sola\n",
      "Skip when city not found\n",
      "Processing Record 468 | Bengkulu\n",
      "Processing Record 469 | Bonavista\n",
      "Processing Record 470 | Korla\n",
      "Processing Record 471 | Caravelas\n",
      "Processing Record 472 | Dunedin\n",
      "Skip when city not found\n",
      "Processing Record 473 | Honiara\n",
      "Processing Record 474 | Batagay\n",
      "Processing Record 475 | Nome\n",
      "Processing Record 476 | Lorengau\n",
      "Processing Record 477 | Viedma\n",
      "Skip when city not found\n",
      "Processing Record 478 | Vila do Maio\n",
      "Processing Record 479 | Bulawayo\n",
      "Processing Record 480 | Barreirinha\n",
      "Processing Record 481 | Gillette\n",
      "Processing Record 482 | Sur\n",
      "Processing Record 483 | Obo\n",
      "Processing Record 484 | Orapa\n",
      "Processing Record 485 | Ongandjera\n",
      "Processing Record 486 | Nelson Bay\n",
      "Processing Record 487 | Saint Anthony\n",
      "Processing Record 488 | Plaster Rock\n",
      "Processing Record 489 | Ōfunato\n",
      "Skip when city not found\n",
      "Processing Record 490 | Cuajinicuilapa\n",
      "Processing Record 491 | Buerarema\n",
      "Processing Record 492 | Ketchikan\n",
      "Processing Record 493 | Tehachapi\n",
      "Processing Record 494 | Kalmunai\n",
      "Processing Record 495 | Olivet\n",
      "Processing Record 496 | Chipinge\n",
      "Processing Record 497 | Sawākin\n",
      "Processing Record 498 | Sobolevo\n",
      "Processing Record 499 | Aksu\n",
      "Processing Record 500 | Chui\n",
      "Processing Record 501 | Pombia\n",
      "Processing Record 502 | Pervomayskiy\n",
      "Processing Record 503 | Goundi\n",
      "Processing Record 504 | Lüderitz\n",
      "Processing Record 505 | Sulina\n",
      "Processing Record 506 | Tartous\n",
      "Processing Record 507 | Semnan\n",
      "Processing Record 508 | Alice Springs\n",
      "Processing Record 509 | Tarakan\n",
      "Processing Record 510 | Burgeo\n",
      "Skip when city not found\n",
      "Processing Record 511 | Buy\n",
      "Processing Record 512 | Jalingo\n",
      "Processing Record 513 | Bonthe\n",
      "Processing Record 514 | Chapada dos Guimarães\n",
      "Processing Record 515 | Ironton\n",
      "Processing Record 516 | Opuwo\n",
      "Processing Record 517 | Bac Lieu\n",
      "Processing Record 518 | Panara\n",
      "Processing Record 519 | Orange Cove\n",
      "Processing Record 520 | Iquitos\n",
      "Processing Record 521 | Qaqortoq\n",
      "Processing Record 522 | Katunino\n",
      "Processing Record 523 | Tete\n",
      "Processing Record 524 | Saint-Pierre\n",
      "Processing Record 525 | Vardø\n",
      "Processing Record 526 | Ciudad Bolivar\n",
      "Skip when city not found\n",
      "Processing Record 527 | Okhotsk\n",
      "Processing Record 528 | Mangan\n",
      "Processing Record 529 | Hue\n",
      "Processing Record 530 | Ilo\n",
      "Processing Record 531 | Yermolayevo\n",
      "Processing Record 532 | Guangyuan\n",
      "Processing Record 533 | Gilgit\n",
      "Processing Record 534 | La Orilla\n",
      "Processing Record 535 | Andros Town\n",
      "Skip when city not found\n",
      "Processing Record 536 | Padang\n",
      "Processing Record 537 | Samarai\n",
      "Processing Record 538 | Lingao\n",
      "Processing Record 539 | Alugan\n",
      "Processing Record 540 | Paralia Milatou\n",
      "Processing Record 541 | Paita\n",
      "Processing Record 542 | Panāgar\n",
      "Processing Record 543 | Betioky\n",
      "Processing Record 544 | Saint Thomas\n",
      "Processing Record 545 | Lipin Bor\n",
      "Processing Record 546 | Lata\n",
      "Processing Record 547 | Pauini\n",
      "Processing Record 548 | Omboué\n",
      "Processing Record 549 | Russell\n",
      "Processing Record 550 | Gamba\n",
      "Processing Record 551 | Lamu\n",
      "Processing Record 552 | Kachug\n",
      "Processing Record 553 | Zaria\n",
      "Processing Record 554 | Luanda\n",
      "Processing Record 555 | Rundu\n",
      "Processing Record 556 | Tabou\n",
      "Processing Record 557 | Santa Marta de Tormes\n",
      "Processing Record 558 | San Juan de la Maguana\n",
      "Processing Record 559 | Valparaíso\n",
      "Processing Record 560 | Skjervøy\n",
      "Processing Record 561 | Ust'-Kut\n",
      "Processing Record 562 | Northam\n",
      "Processing Record 563 | Gerāsh\n",
      "Processing Record 564 | Ahipara\n",
      "Processing Record 565 | Clovis\n",
      "Processing Record 566 | Stryn\n",
      "Processing Record 567 | Kuytun\n",
      "Processing Record 568 | Tetiiv\n",
      "Processing Record 569 | Malanje\n",
      "Processing Record 570 | San-Pédro\n",
      "Processing Record 571 | Dicabisagan\n",
      "Processing Record 572 | Nhulunbuy\n",
      "Processing Record 573 | Mnogovershinnyy\n",
      "Processing Record 574 | Mahabalipuram\n",
      "Processing Record 575 | Jatibonico\n",
      "Processing Record 576 | King City\n",
      "Processing Record 577 | Bastos\n",
      "Processing Record 578 | Fort Nelson\n",
      "Processing Record 579 | Málaga\n",
      "Processing Record 580 | Apold\n",
      "Skip when city not found\n",
      "Processing Record 581 | Kiknur\n",
      "Processing Record 582 | Humberto de Campos\n",
      "Processing Record 583 | Bhisho\n",
      "Processing Record 584 | Dārāb\n"
     ]
    }
   ],
   "source": [
    "# define url\n",
    "url = \"http://api.openweathermap.org/data/2.5/weather?units=Imperial&APPID=\" + weather_api_key\n",
    "\n",
    "print(f\"Data Processing\")\n",
    "print(f\"-------------------------------\")\n",
    "\n",
    "#Loop through the cities in the city list \n",
    "# Create empty lists to append the API data into lists \n",
    "CityName = []\n",
    "cloudiness = []\n",
    "country = []\n",
    "date = []\n",
    "humidity = []\n",
    "lat = []\n",
    "lng = []\n",
    "MaxTemp = []\n",
    "WindSpeed = []\n",
    "\n",
    "#Create counter for looping through the cities in the city list \n",
    "i = 1\n",
    "\n",
    "for city in cities:  \n",
    "    \n",
    "    try: \n",
    "        response = requests.get(f\"{url}&q={city}\").json() \n",
    "        CityName.append(response[\"name\"])\n",
    "        cloudiness.append(response[\"clouds\"][\"all\"])\n",
    "        country.append(response[\"sys\"][\"country\"])\n",
    "        date.append(response[\"dt\"])\n",
    "        humidity.append(response[\"main\"][\"humidity\"])\n",
    "        MaxTemp.append(response[\"main\"][\"temp_max\"])\n",
    "        lat.append(response[\"coord\"][\"lat\"])\n",
    "        lng.append(response[\"coord\"][\"lon\"])\n",
    "        WindSpeed.append(response[\"wind\"][\"speed\"])\n",
    "        city_result = response[\"name\"]\n",
    "        print(f\"Processing Record {i} | {city_result}\")\n",
    "        \n",
    "        # Increase counter by one \n",
    "        i= i + 1\n",
    "        \n",
    "        time.sleep(1)\n",
    "        \n",
    "    # Skip to the next count to avoid errors\n",
    "    except:\n",
    "        print(\"Skip when city not found\")\n",
    "    continue"
   ]
  },
  {
   "cell_type": "markdown",
   "metadata": {},
   "source": [
    "### Convert Raw Data to DataFrame\n",
    "* Export the city data into a .csv.\n",
    "* Display the DataFrame"
   ]
  },
  {
   "cell_type": "code",
   "execution_count": 8,
   "metadata": {},
   "outputs": [
    {
     "data": {
      "text/html": [
       "<div>\n",
       "<style scoped>\n",
       "    .dataframe tbody tr th:only-of-type {\n",
       "        vertical-align: middle;\n",
       "    }\n",
       "\n",
       "    .dataframe tbody tr th {\n",
       "        vertical-align: top;\n",
       "    }\n",
       "\n",
       "    .dataframe thead th {\n",
       "        text-align: right;\n",
       "    }\n",
       "</style>\n",
       "<table border=\"1\" class=\"dataframe\">\n",
       "  <thead>\n",
       "    <tr style=\"text-align: right;\">\n",
       "      <th></th>\n",
       "      <th>City</th>\n",
       "      <th>Date</th>\n",
       "      <th>Cloudiness</th>\n",
       "      <th>Country</th>\n",
       "      <th>Wind Speed</th>\n",
       "      <th>Humidity</th>\n",
       "      <th>Latitude</th>\n",
       "      <th>Longitude</th>\n",
       "      <th>Max Temp</th>\n",
       "    </tr>\n",
       "  </thead>\n",
       "  <tbody>\n",
       "    <tr>\n",
       "      <th>0</th>\n",
       "      <td>Kandi</td>\n",
       "      <td>1616240464</td>\n",
       "      <td>91</td>\n",
       "      <td>BJ</td>\n",
       "      <td>3.94</td>\n",
       "      <td>25</td>\n",
       "      <td>11.1342</td>\n",
       "      <td>2.9386</td>\n",
       "      <td>96.24</td>\n",
       "    </tr>\n",
       "    <tr>\n",
       "      <th>1</th>\n",
       "      <td>Alghero</td>\n",
       "      <td>1616240466</td>\n",
       "      <td>40</td>\n",
       "      <td>IT</td>\n",
       "      <td>17.27</td>\n",
       "      <td>62</td>\n",
       "      <td>40.5589</td>\n",
       "      <td>8.3181</td>\n",
       "      <td>53.60</td>\n",
       "    </tr>\n",
       "    <tr>\n",
       "      <th>2</th>\n",
       "      <td>Mahébourg</td>\n",
       "      <td>1616240468</td>\n",
       "      <td>75</td>\n",
       "      <td>MU</td>\n",
       "      <td>12.66</td>\n",
       "      <td>83</td>\n",
       "      <td>-20.4081</td>\n",
       "      <td>57.7000</td>\n",
       "      <td>82.40</td>\n",
       "    </tr>\n",
       "    <tr>\n",
       "      <th>3</th>\n",
       "      <td>Yangambi</td>\n",
       "      <td>1616240471</td>\n",
       "      <td>58</td>\n",
       "      <td>CD</td>\n",
       "      <td>2.33</td>\n",
       "      <td>38</td>\n",
       "      <td>0.8102</td>\n",
       "      <td>24.4336</td>\n",
       "      <td>95.79</td>\n",
       "    </tr>\n",
       "    <tr>\n",
       "      <th>4</th>\n",
       "      <td>Toropets</td>\n",
       "      <td>1616240472</td>\n",
       "      <td>86</td>\n",
       "      <td>RU</td>\n",
       "      <td>7.31</td>\n",
       "      <td>61</td>\n",
       "      <td>56.4978</td>\n",
       "      <td>31.6353</td>\n",
       "      <td>28.08</td>\n",
       "    </tr>\n",
       "  </tbody>\n",
       "</table>\n",
       "</div>"
      ],
      "text/plain": [
       "        City        Date  Cloudiness Country  Wind Speed  Humidity  Latitude  \\\n",
       "0      Kandi  1616240464          91      BJ        3.94        25   11.1342   \n",
       "1    Alghero  1616240466          40      IT       17.27        62   40.5589   \n",
       "2  Mahébourg  1616240468          75      MU       12.66        83  -20.4081   \n",
       "3   Yangambi  1616240471          58      CD        2.33        38    0.8102   \n",
       "4   Toropets  1616240472          86      RU        7.31        61   56.4978   \n",
       "\n",
       "   Longitude  Max Temp  \n",
       "0     2.9386     96.24  \n",
       "1     8.3181     53.60  \n",
       "2    57.7000     82.40  \n",
       "3    24.4336     95.79  \n",
       "4    31.6353     28.08  "
      ]
     },
     "execution_count": 8,
     "metadata": {},
     "output_type": "execute_result"
    }
   ],
   "source": [
    "# create a dictionary for establishing dataframe\n",
    "Weather_dic = {\n",
    "    \"City\": CityName,\n",
    "    \"Date\": date,\n",
    "    \"Cloudiness\": cloudiness, \n",
    "    \"Country\": country,\n",
    "    \"Wind Speed\": WindSpeed, \n",
    "    \"Humidity\": humidity,\n",
    "    \"Latitude\": lat, \n",
    "    \"Longitude\": lng, \n",
    "    \"Max Temp\": MaxTemp}\n",
    "\n",
    "# Create a data frame from dictionary\n",
    "data = pd.DataFrame(Weather_dic)\n",
    "\n",
    "# Save data frame to CSV\n",
    "data.to_csv('weather_analysed.csv')\n",
    "\n",
    "# Display data frame head \n",
    "data.head()\n"
   ]
  },
  {
   "cell_type": "code",
   "execution_count": 9,
   "metadata": {},
   "outputs": [
    {
     "data": {
      "text/html": [
       "<div>\n",
       "<style scoped>\n",
       "    .dataframe tbody tr th:only-of-type {\n",
       "        vertical-align: middle;\n",
       "    }\n",
       "\n",
       "    .dataframe tbody tr th {\n",
       "        vertical-align: top;\n",
       "    }\n",
       "\n",
       "    .dataframe thead th {\n",
       "        text-align: right;\n",
       "    }\n",
       "</style>\n",
       "<table border=\"1\" class=\"dataframe\">\n",
       "  <thead>\n",
       "    <tr style=\"text-align: right;\">\n",
       "      <th></th>\n",
       "      <th>Date</th>\n",
       "      <th>Cloudiness</th>\n",
       "      <th>Wind Speed</th>\n",
       "      <th>Humidity</th>\n",
       "      <th>Latitude</th>\n",
       "      <th>Longitude</th>\n",
       "      <th>Max Temp</th>\n",
       "    </tr>\n",
       "  </thead>\n",
       "  <tbody>\n",
       "    <tr>\n",
       "      <th>count</th>\n",
       "      <td>5.840000e+02</td>\n",
       "      <td>584.000000</td>\n",
       "      <td>584.000000</td>\n",
       "      <td>584.000000</td>\n",
       "      <td>584.000000</td>\n",
       "      <td>584.000000</td>\n",
       "      <td>584.000000</td>\n",
       "    </tr>\n",
       "    <tr>\n",
       "      <th>mean</th>\n",
       "      <td>1.616241e+09</td>\n",
       "      <td>54.683219</td>\n",
       "      <td>8.691712</td>\n",
       "      <td>70.333904</td>\n",
       "      <td>20.408658</td>\n",
       "      <td>16.566258</td>\n",
       "      <td>56.274161</td>\n",
       "    </tr>\n",
       "    <tr>\n",
       "      <th>std</th>\n",
       "      <td>3.878982e+02</td>\n",
       "      <td>37.078110</td>\n",
       "      <td>5.876503</td>\n",
       "      <td>21.994303</td>\n",
       "      <td>32.959863</td>\n",
       "      <td>87.972031</td>\n",
       "      <td>28.642614</td>\n",
       "    </tr>\n",
       "    <tr>\n",
       "      <th>min</th>\n",
       "      <td>1.616240e+09</td>\n",
       "      <td>0.000000</td>\n",
       "      <td>0.470000</td>\n",
       "      <td>1.000000</td>\n",
       "      <td>-54.800000</td>\n",
       "      <td>-179.166700</td>\n",
       "      <td>-34.400000</td>\n",
       "    </tr>\n",
       "    <tr>\n",
       "      <th>25%</th>\n",
       "      <td>1.616241e+09</td>\n",
       "      <td>20.000000</td>\n",
       "      <td>4.370000</td>\n",
       "      <td>60.000000</td>\n",
       "      <td>-5.238725</td>\n",
       "      <td>-58.836775</td>\n",
       "      <td>35.945000</td>\n",
       "    </tr>\n",
       "    <tr>\n",
       "      <th>50%</th>\n",
       "      <td>1.616241e+09</td>\n",
       "      <td>65.000000</td>\n",
       "      <td>7.080000</td>\n",
       "      <td>75.000000</td>\n",
       "      <td>22.180350</td>\n",
       "      <td>20.402700</td>\n",
       "      <td>63.910000</td>\n",
       "    </tr>\n",
       "    <tr>\n",
       "      <th>75%</th>\n",
       "      <td>1.616241e+09</td>\n",
       "      <td>90.000000</td>\n",
       "      <td>11.500000</td>\n",
       "      <td>87.000000</td>\n",
       "      <td>49.721325</td>\n",
       "      <td>91.372925</td>\n",
       "      <td>78.800000</td>\n",
       "    </tr>\n",
       "    <tr>\n",
       "      <th>max</th>\n",
       "      <td>1.616242e+09</td>\n",
       "      <td>100.000000</td>\n",
       "      <td>38.990000</td>\n",
       "      <td>100.000000</td>\n",
       "      <td>78.218600</td>\n",
       "      <td>178.416700</td>\n",
       "      <td>108.230000</td>\n",
       "    </tr>\n",
       "  </tbody>\n",
       "</table>\n",
       "</div>"
      ],
      "text/plain": [
       "               Date  Cloudiness  Wind Speed    Humidity    Latitude  \\\n",
       "count  5.840000e+02  584.000000  584.000000  584.000000  584.000000   \n",
       "mean   1.616241e+09   54.683219    8.691712   70.333904   20.408658   \n",
       "std    3.878982e+02   37.078110    5.876503   21.994303   32.959863   \n",
       "min    1.616240e+09    0.000000    0.470000    1.000000  -54.800000   \n",
       "25%    1.616241e+09   20.000000    4.370000   60.000000   -5.238725   \n",
       "50%    1.616241e+09   65.000000    7.080000   75.000000   22.180350   \n",
       "75%    1.616241e+09   90.000000   11.500000   87.000000   49.721325   \n",
       "max    1.616242e+09  100.000000   38.990000  100.000000   78.218600   \n",
       "\n",
       "        Longitude    Max Temp  \n",
       "count  584.000000  584.000000  \n",
       "mean    16.566258   56.274161  \n",
       "std     87.972031   28.642614  \n",
       "min   -179.166700  -34.400000  \n",
       "25%    -58.836775   35.945000  \n",
       "50%     20.402700   63.910000  \n",
       "75%     91.372925   78.800000  \n",
       "max    178.416700  108.230000  "
      ]
     },
     "execution_count": 9,
     "metadata": {},
     "output_type": "execute_result"
    }
   ],
   "source": [
    "data.describe()"
   ]
  },
  {
   "cell_type": "markdown",
   "metadata": {},
   "source": [
    "## Inspect the data and remove the cities where the humidity > 100%.\n",
    "----\n",
    "Skip this step if there are no cities that have humidity > 100%. "
   ]
  },
  {
   "cell_type": "code",
   "execution_count": null,
   "metadata": {},
   "outputs": [],
   "source": []
  },
  {
   "cell_type": "code",
   "execution_count": 7,
   "metadata": {},
   "outputs": [],
   "source": [
    "#  Get the indices of cities that have humidity over 100%.\n"
   ]
  },
  {
   "cell_type": "code",
   "execution_count": 8,
   "metadata": {},
   "outputs": [],
   "source": [
    "# Make a new DataFrame equal to the city data to drop all humidity outliers by index.\n",
    "# Passing \"inplace=False\" will make a copy of the city_data DataFrame, which we call \"clean_city_data\".\n"
   ]
  },
  {
   "cell_type": "code",
   "execution_count": null,
   "metadata": {},
   "outputs": [],
   "source": [
    "\n"
   ]
  },
  {
   "cell_type": "markdown",
   "metadata": {},
   "source": [
    "## Plotting the Data\n",
    "* Use proper labeling of the plots using plot titles (including date of analysis) and axes labels.\n",
    "* Save the plotted figures as .pngs."
   ]
  },
  {
   "cell_type": "markdown",
   "metadata": {},
   "source": [
    "## Latitude vs. Temperature Plot"
   ]
  },
  {
   "cell_type": "code",
   "execution_count": 10,
   "metadata": {
    "scrolled": true
   },
   "outputs": [
    {
     "data": {
      "image/png": "[encoded data removed]",
      "text/plain": [
       "<Figure size 432x288 with 1 Axes>"
      ]
     },
     "metadata": {
      "needs_background": "light"
     },
     "output_type": "display_data"
    }
   ],
   "source": [
    "# Build a scatter plot for each data type\n",
    "plt.scatter(data[\"Latitude\"], data[\"Max Temp\"], marker=\"o\", s=10)\n",
    "plt.title(\"City Latitude vs. Max Temperature\")\n",
    "plt.ylabel(\"Max. Temperature\")\n",
    "plt.xlabel(\"Latitude\")\n",
    "plt.grid(True)\n",
    "\n",
    "# Save the figure\n",
    "plt.savefig(\"Figures/Latitude_vs_Max_temp.png\")\n",
    "plt.show()"
   ]
  },
  {
   "cell_type": "markdown",
   "metadata": {},
   "source": [
    "## Latitude vs. Humidity Plot"
   ]
  },
  {
   "cell_type": "code",
   "execution_count": 11,
   "metadata": {},
   "outputs": [
    {
     "data": {
      "image/png": "[encoded data removed]",
      "text/plain": [
       "<Figure size 432x288 with 1 Axes>"
      ]
     },
     "metadata": {
      "needs_background": "light"
     },
     "output_type": "display_data"
    }
   ],
   "source": [
    "# Build a scatter plot for each data type\n",
    "plt.scatter(data[\"Latitude\"], data[\"Humidity\"], marker=\"o\", s=10)\n",
    "plt.title(\"City Latitude vs. Humidity\")\n",
    "plt.ylabel(\"Humidity\")\n",
    "plt.xlabel(\"Latitude\")\n",
    "plt.grid(True)\n",
    "\n",
    "# Save the figure\n",
    "plt.savefig(\"Figures/Latitude_vs_Humidity.png\")\n",
    "plt.show()"
   ]
  },
  {
   "cell_type": "markdown",
   "metadata": {},
   "source": [
    "## Latitude vs. Cloudiness Plot"
   ]
  },
  {
   "cell_type": "code",
   "execution_count": 12,
   "metadata": {},
   "outputs": [
    {
     "data": {
      "image/png": "[encoded data removed]",
      "text/plain": [
       "<Figure size 432x288 with 1 Axes>"
      ]
     },
     "metadata": {
      "needs_background": "light"
     },
     "output_type": "display_data"
    }
   ],
   "source": [
    "# Build a scatter plot for each data type\n",
    "plt.scatter(data[\"Latitude\"], data[\"Cloudiness\"], marker=\"o\", s=10)\n",
    "plt.title(\"City Latitude vs. Cloudiness\")\n",
    "plt.ylabel(\"Humidity\")\n",
    "plt.xlabel(\"Latitude\")\n",
    "plt.grid(True)\n",
    "\n",
    "# Save the figure\n",
    "plt.savefig(\"Figures/Latitude_vs_Cloudiness.png\")\n",
    "plt.show()"
   ]
  },
  {
   "cell_type": "markdown",
   "metadata": {},
   "source": [
    "## Latitude vs. Wind Speed Plot"
   ]
  },
  {
   "cell_type": "code",
   "execution_count": 13,
   "metadata": {},
   "outputs": [
    {
     "data": {
      "image/png": "[encoded data removed]",
      "text/plain": [
       "<Figure size 432x288 with 1 Axes>"
      ]
     },
     "metadata": {
      "needs_background": "light"
     },
     "output_type": "display_data"
    }
   ],
   "source": [
    "# Build a scatter plot for each data type\n",
    "plt.scatter(data[\"Latitude\"], data[\"Wind Speed\"], marker=\"o\", s=10)\n",
    "plt.title(\"City Latitude vs. Wind Speed\")\n",
    "plt.ylabel(\"Wind Speed\")\n",
    "plt.xlabel(\"Latitude\")\n",
    "plt.grid(True)\n",
    "\n",
    "# Save the figure\n",
    "plt.savefig(\"Figures/Latitude_vs_Wind_Speed.png\")\n",
    "plt.show()"
   ]
  },
  {
   "cell_type": "markdown",
   "metadata": {},
   "source": [
    "## Linear Regression"
   ]
  },
  {
   "cell_type": "code",
   "execution_count": 14,
   "metadata": {},
   "outputs": [
    {
     "name": "stdout",
     "output_type": "stream",
     "text": [
      " The number of cities in Northern Hemisphere is: 406\n",
      " The number of cities in Southern Hemisphere is: 178\n"
     ]
    }
   ],
   "source": [
    "# Generate Nothern and Southern Hemisphere DataFrame\n",
    "\n",
    "north_hem = data.loc[data[\"Latitude\"] >= 0]\n",
    "south_hem = data.loc[data[\"Latitude\"] < 0]\n",
    "\n",
    "# Count the number of cities in both regions\n",
    "north_cities = len(north_hem)\n",
    "south_cities = len(south_hem)\n",
    "\n",
    "print(f\" The number of cities in Northern Hemisphere is: {north_cities}\")\n",
    "print(f\" The number of cities in Southern Hemisphere is: {south_cities}\")"
   ]
  },
  {
   "cell_type": "markdown",
   "metadata": {},
   "source": [
    "####  Northern Hemisphere - Max Temp vs. Latitude Linear Regression"
   ]
  },
  {
   "cell_type": "code",
   "execution_count": 15,
   "metadata": {},
   "outputs": [
    {
     "name": "stdout",
     "output_type": "stream",
     "text": [
      "The r-value is: 0.7857114761089627\n"
     ]
    },
    {
     "data": {
      "image/png": "[encoded data removed]",
      "text/plain": [
       "<Figure size 432x288 with 1 Axes>"
      ]
     },
     "metadata": {
      "needs_background": "light"
     },
     "output_type": "display_data"
    }
   ],
   "source": [
    "x_values = north_hem['Latitude']\n",
    "y_values = north_hem['Max Temp']\n",
    "(slope_temp, intercept_temp, rvalue_temp, pvalue_temp, stderr_temp) = linregress(x_values, y_values)\n",
    "regress_values_temp = x_values * slope_temp + intercept_temp\n",
    "line_eq = \"y = \" + str(round(slope_temp,2)) + \"x + \" + str(round(intercept_temp,2))\n",
    "plt.scatter(x_values,y_values)\n",
    "plt.plot(x_values,regress_values_temp,\"r-\")\n",
    "plt.annotate(line_eq,(6,10),fontsize=20,color=\"red\")\n",
    "plt.title('Northern Hemisphere - Max Temp vs. Latitude Linear Regression')\n",
    "plt.xlabel('Latitude')\n",
    "plt.ylabel('Maximum Temperature')\n",
    "print(f\"The r-value is: {rvalue_temp**2}\")\n",
    "plt.show()"
   ]
  },
  {
   "cell_type": "markdown",
   "metadata": {},
   "source": [
    "####  Southern Hemisphere - Max Temp vs. Latitude Linear Regression"
   ]
  },
  {
   "cell_type": "code",
   "execution_count": 16,
   "metadata": {},
   "outputs": [
    {
     "name": "stdout",
     "output_type": "stream",
     "text": [
      "The r-value is: 0.43396492357724203\n"
     ]
    },
    {
     "data": {
      "image/png": "[encoded data removed]",
      "text/plain": [
       "<Figure size 432x288 with 1 Axes>"
      ]
     },
     "metadata": {
      "needs_background": "light"
     },
     "output_type": "display_data"
    }
   ],
   "source": [
    "x_values = south_hem['Latitude']\n",
    "y_values = south_hem['Max Temp']\n",
    "(slope_temp, intercept_temp, rvalue_temp, pvalue_temp, stderr_temp) = linregress(x_values, y_values)\n",
    "regress_values_temp = x_values * slope_temp + intercept_temp\n",
    "line_eq = \"y = \" + str(round(slope_temp,2)) + \"x + \" + str(round(intercept_temp,2))\n",
    "plt.scatter(x_values,y_values)\n",
    "plt.plot(x_values,regress_values_temp,\"r-\")\n",
    "plt.annotate(line_eq,(6,10),fontsize=20,color=\"red\")\n",
    "plt.title('Southern Hemisphere - Max Temp vs. Latitude Linear Regression')\n",
    "plt.xlabel('Latitude')\n",
    "plt.ylabel('Maximum Temperature')\n",
    "print(f\"The r-value is: {rvalue_temp**2}\")\n",
    "plt.show()"
   ]
  },
  {
   "cell_type": "markdown",
   "metadata": {},
   "source": [
    "####  Northern Hemisphere - Humidity (%) vs. Latitude Linear Regression"
   ]
  },
  {
   "cell_type": "code",
   "execution_count": 17,
   "metadata": {},
   "outputs": [
    {
     "name": "stdout",
     "output_type": "stream",
     "text": [
      "The r-value is: 0.43396492357724203\n"
     ]
    },
    {
     "data": {
      "image/png": "[encoded data removed]",
      "text/plain": [
       "<Figure size 432x288 with 1 Axes>"
      ]
     },
     "metadata": {
      "needs_background": "light"
     },
     "output_type": "display_data"
    }
   ],
   "source": [
    "x_values = north_hem['Latitude']\n",
    "y_values = north_hem['Humidity']\n",
    "(slope_humid, intercept_humid, rvalue_humid, pvalue_humid, stderr_humid) = linregress(x_values, y_values)\n",
    "regress_values_humid = x_values * slope_humid + intercept_humid\n",
    "line_eq = \"y = \" + str(round(slope_humid,2)) + \"x + \" + str(round(intercept_humid,2))\n",
    "plt.scatter(x_values,y_values)\n",
    "plt.plot(x_values,regress_values_humid,\"r-\")\n",
    "plt.annotate(line_eq,(6,10),fontsize=20,color=\"red\")\n",
    "plt.title('Northern Hemisphere - Humidity (%) vs. Latitude Linear Regression')\n",
    "plt.xlabel('Latitude')\n",
    "plt.ylabel('Humidity')\n",
    "print(f\"The r-value is: {rvalue_temp**2}\")\n",
    "plt.show()"
   ]
  },
  {
   "cell_type": "markdown",
   "metadata": {},
   "source": [
    "####  Southern Hemisphere - Humidity (%) vs. Latitude Linear Regression"
   ]
  },
  {
   "cell_type": "code",
   "execution_count": 18,
   "metadata": {},
   "outputs": [
    {
     "name": "stdout",
     "output_type": "stream",
     "text": [
      "The r-value is: 0.43396492357724203\n"
     ]
    },
    {
     "data": {
      "image/png": "[encoded data removed]",
      "text/plain": [
       "<Figure size 432x288 with 1 Axes>"
      ]
     },
     "metadata": {
      "needs_background": "light"
     },
     "output_type": "display_data"
    }
   ],
   "source": [
    "x_values = south_hem['Latitude']\n",
    "y_values = south_hem['Humidity']\n",
    "(slope_humid, intercept_humid, rvalue_humid, pvalue_humid, stderr_humid) = linregress(x_values, y_values)\n",
    "regress_values_humid = x_values * slope_humid + intercept_humid\n",
    "line_eq = \"y = \" + str(round(slope_humid,2)) + \"x + \" + str(round(intercept_humid,2))\n",
    "plt.scatter(x_values,y_values)\n",
    "plt.plot(x_values,regress_values_humid,\"r-\")\n",
    "plt.annotate(line_eq,(6,10),fontsize=20,color=\"red\")\n",
    "plt.title('Southern Hemisphere - Humidity (%) vs. Latitude Linear Regression')\n",
    "plt.xlabel('Latitude')\n",
    "plt.ylabel('Humidity')\n",
    "print(f\"The r-value is: {rvalue_temp**2}\")\n",
    "plt.show()"
   ]
  },
  {
   "cell_type": "markdown",
   "metadata": {},
   "source": [
    "####  Northern Hemisphere - Cloudiness (%) vs. Latitude Linear Regression"
   ]
  },
  {
   "cell_type": "code",
   "execution_count": 19,
   "metadata": {},
   "outputs": [
    {
     "name": "stdout",
     "output_type": "stream",
     "text": [
      "The r-value is: 0.43396492357724203\n"
     ]
    },
    {
     "data": {
      "image/png": "[encoded data removed]",
      "text/plain": [
       "<Figure size 432x288 with 1 Axes>"
      ]
     },
     "metadata": {
      "needs_background": "light"
     },
     "output_type": "display_data"
    }
   ],
   "source": [
    "x_values = north_hem['Latitude']\n",
    "y_values = north_hem['Cloudiness']\n",
    "(slope_humid, intercept_humid, rvalue_humid, pvalue_humid, stderr_humid) = linregress(x_values, y_values)\n",
    "regress_values_humid = x_values * slope_humid + intercept_humid\n",
    "line_eq = \"y = \" + str(round(slope_humid,2)) + \"x + \" + str(round(intercept_humid,2))\n",
    "plt.scatter(x_values,y_values)\n",
    "plt.plot(x_values,regress_values_humid,\"r-\")\n",
    "plt.annotate(line_eq,(6,10),fontsize=20,color=\"red\")\n",
    "plt.title('Northern Hemisphere - Cloudiness (%) vs. Latitude Linear Regression')\n",
    "plt.xlabel('Latitude')\n",
    "plt.ylabel('Cloudiness')\n",
    "print(f\"The r-value is: {rvalue_temp**2}\")\n",
    "plt.show()"
   ]
  },
  {
   "cell_type": "markdown",
   "metadata": {},
   "source": [
    "####  Southern Hemisphere - Cloudiness (%) vs. Latitude Linear Regression"
   ]
  },
  {
   "cell_type": "code",
   "execution_count": 20,
   "metadata": {},
   "outputs": [
    {
     "name": "stdout",
     "output_type": "stream",
     "text": [
      "The r-value is: 0.43396492357724203\n"
     ]
    },
    {
     "data": {
      "image/png": "[encoded data removed]",
      "text/plain": [
       "<Figure size 432x288 with 1 Axes>"
      ]
     },
     "metadata": {
      "needs_background": "light"
     },
     "output_type": "display_data"
    }
   ],
   "source": [
    "x_values = south_hem['Latitude']\n",
    "y_values = south_hem['Cloudiness']\n",
    "(slope_humid, intercept_humid, rvalue_humid, pvalue_humid, stderr_humid) = linregress(x_values, y_values)\n",
    "regress_values_humid = x_values * slope_humid + intercept_humid\n",
    "line_eq = \"y = \" + str(round(slope_humid,2)) + \"x + \" + str(round(intercept_humid,2))\n",
    "plt.scatter(x_values,y_values)\n",
    "plt.plot(x_values,regress_values_humid,\"r-\")\n",
    "plt.annotate(line_eq,(6,10),fontsize=20,color=\"red\")\n",
    "plt.title('Southern Hemisphere - Cloudiness (%) vs. Latitude Linear Regression')\n",
    "plt.xlabel('Latitude')\n",
    "plt.ylabel('Cloudiness')\n",
    "print(f\"The r-value is: {rvalue_temp**2}\")\n",
    "plt.show()"
   ]
  },
  {
   "cell_type": "markdown",
   "metadata": {},
   "source": [
    "####  Northern Hemisphere - Wind Speed (mph) vs. Latitude Linear Regression"
   ]
  },
  {
   "cell_type": "code",
   "execution_count": 21,
   "metadata": {},
   "outputs": [
    {
     "name": "stdout",
     "output_type": "stream",
     "text": [
      "The r-value is: 0.43396492357724203\n"
     ]
    },
    {
     "data": {
      "image/png": "[encoded data removed]",
      "text/plain": [
       "<Figure size 432x288 with 1 Axes>"
      ]
     },
     "metadata": {
      "needs_background": "light"
     },
     "output_type": "display_data"
    }
   ],
   "source": [
    "x_values = north_hem['Latitude']\n",
    "y_values = north_hem['Wind Speed']\n",
    "(slope_humid, intercept_humid, rvalue_humid, pvalue_humid, stderr_humid) = linregress(x_values, y_values)\n",
    "regress_values_humid = x_values * slope_humid + intercept_humid\n",
    "line_eq = \"y = \" + str(round(slope_humid,2)) + \"x + \" + str(round(intercept_humid,2))\n",
    "plt.scatter(x_values,y_values)\n",
    "plt.plot(x_values,regress_values_humid,\"r-\")\n",
    "plt.annotate(line_eq,(6,10),fontsize=20,color=\"red\")\n",
    "plt.title('Northern Hemisphere - Wind Speed (mph) vs. Latitude Linear Regression')\n",
    "plt.xlabel('Latitude')\n",
    "plt.ylabel('Wind Speed')\n",
    "print(f\"The r-value is: {rvalue_temp**2}\")\n",
    "plt.show()"
   ]
  },
  {
   "cell_type": "markdown",
   "metadata": {},
   "source": [
    "####  Southern Hemisphere - Wind Speed (mph) vs. Latitude Linear Regression"
   ]
  },
  {
   "cell_type": "code",
   "execution_count": 22,
   "metadata": {},
   "outputs": [
    {
     "name": "stdout",
     "output_type": "stream",
     "text": [
      "The r-value is: 0.43396492357724203\n"
     ]
    },
    {
     "data": {
      "image/png": "[encoded data removed]",
      "text/plain": [
       "<Figure size 432x288 with 1 Axes>"
      ]
     },
     "metadata": {
      "needs_background": "light"
     },
     "output_type": "display_data"
    }
   ],
   "source": [
    "x_values = south_hem['Latitude']\n",
    "y_values = south_hem['Wind Speed']\n",
    "(slope_humid, intercept_humid, rvalue_humid, pvalue_humid, stderr_humid) = linregress(x_values, y_values)\n",
    "regress_values_humid = x_values * slope_humid + intercept_humid\n",
    "line_eq = \"y = \" + str(round(slope_humid,2)) + \"x + \" + str(round(intercept_humid,2))\n",
    "plt.scatter(x_values,y_values)\n",
    "plt.plot(x_values,regress_values_humid,\"r-\")\n",
    "plt.annotate(line_eq,(6,10),fontsize=20,color=\"red\")\n",
    "plt.title('Southern Hemisphere - Wind Speed (mph) vs. Latitude Linear Regression')\n",
    "plt.xlabel('Latitude')\n",
    "plt.ylabel('Wind Speed')\n",
    "print(f\"The r-value is: {rvalue_temp**2}\")\n",
    "plt.show()"
   ]
  },
  {
   "cell_type": "code",
   "execution_count": null,
   "metadata": {},
   "outputs": [],
   "source": []
  }
 ],
 "metadata": {
  "anaconda-cloud": {},
  "kernel_info": {
   "name": "python3"
  },
  "kernelspec": {
   "display_name": "Python 3",
   "language": "python",
   "name": "python3"
  },
  "language_info": {
   "codemirror_mode": {
    "name": "ipython",
    "version": 3
   },
   "file_extension": ".py",
   "mimetype": "text/x-python",
   "name": "python",
   "nbconvert_exporter": "python",
   "pygments_lexer": "ipython3",
   "version": "3.8.5"
  },
  "latex_envs": {
   "LaTeX_envs_menu_present": true,
   "autoclose": false,
   "autocomplete": true,
   "bibliofile": "biblio.bib",
   "cite_by": "apalike",
   "current_citInitial": 1,
   "eqLabelWithNumbers": true,
   "eqNumInitial": 1,
   "hotkeys": {
    "equation": "Ctrl-E",
    "itemize": "Ctrl-I"
   },
   "labels_anchors": false,
   "latex_user_defs": false,
   "report_style_numbering": false,
   "user_envs_cfg": false
  },
  "nteract": {
   "version": "0.12.3"
  }
 },
 "nbformat": 4,
 "nbformat_minor": 2
}
